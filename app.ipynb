{
 "cells": [
  {
   "cell_type": "code",
   "execution_count": null,
   "id": "8280eeac",
   "metadata": {},
   "outputs": [
    {
     "name": "stderr",
     "output_type": "stream",
     "text": [
      "INFO:     Started server process [3637]\n",
      "INFO:     Waiting for application startup.\n",
      "INFO:     Application startup complete.\n",
      "INFO:     Uvicorn running on http://127.0.0.1:8000 (Press CTRL+C to quit)\n"
     ]
    },
    {
     "name": "stdout",
     "output_type": "stream",
     "text": [
      "INFO:     127.0.0.1:50916 - \"GET /docs HTTP/1.1\" 200 OK\n",
      "INFO:     127.0.0.1:50916 - \"GET /openapi.json HTTP/1.1\" 200 OK\n",
      "INFO:     127.0.0.1:50918 - \"GET /item/1 HTTP/1.1\" 200 OK\n",
      "INFO:     127.0.0.1:50922 - \"GET / HTTP/1.1\" 404 Not Found\n",
      "INFO:     127.0.0.1:50922 - \"GET /redoc HTTP/1.1\" 200 OK\n",
      "INFO:     127.0.0.1:50922 - \"GET /openapi.json HTTP/1.1\" 200 OK\n",
      "INFO:     127.0.0.1:50922 - \"GET /redoc HTTP/1.1\" 200 OK\n",
      "INFO:     127.0.0.1:50922 - \"GET /openapi.json HTTP/1.1\" 200 OK\n",
      "INFO:     127.0.0.1:50924 - \"GET /item/1 HTTP/1.1\" 200 OK\n",
      "INFO:     127.0.0.1:50941 - \"GET /items/5?q=somequery HTTP/1.1\" 404 Not Found\n",
      "INFO:     127.0.0.1:51755 - \"GET /redoc HTTP/1.1\" 200 OK\n",
      "INFO:     127.0.0.1:51755 - \"GET /openapi.json HTTP/1.1\" 200 OK\n"
     ]
    }
   ],
   "source": [
    "from fastapi import FastAPI\n",
    "import nest_asyncio\n",
    "import uvicorn\n",
    "\n",
    "app_fast = FastAPI()\n",
    "\n",
    "@app_fast.get(\"/home\")\n",
    "def home():\n",
    "    return {\"name\": \"Mahendra\", \"Age\": 77}\n",
    "\n",
    "@app_fast.get(\"/items\")\n",
    "def items():\n",
    "    return {\"cars\": [\"Nissan\"], \"Engg\": 675}\n",
    "\n",
    "@app_fast.get(\"/item/{item_id}\")\n",
    "def get_item(item_id: int):\n",
    "    return {\"id\": item_id, \"cars\": [\"Nissan\"], \"Engg\": 675}\n",
    "\n",
    "# For running inside Jupyter or a notebook\n",
    "nest_asyncio.apply()\n",
    "uvicorn.run(app_fast, host=\"127.0.0.1\", port=8000)"
   ]
  },
  {
   "cell_type": "code",
   "execution_count": null,
   "id": "88eff5ab",
   "metadata": {},
   "outputs": [],
   "source": [
    "nest_asyncio.apply()\n",
    "uvicorn.run(app_fast, host=\"127.0.0.1\", port=8000)"
   ]
  },
  {
   "cell_type": "code",
   "execution_count": null,
   "id": "f143ddeb",
   "metadata": {},
   "outputs": [],
   "source": []
  }
 ],
 "metadata": {
  "kernelspec": {
   "display_name": "Python 3 (ipykernel)",
   "language": "python",
   "name": "python3"
  },
  "language_info": {
   "codemirror_mode": {
    "name": "ipython",
    "version": 3
   },
   "file_extension": ".py",
   "mimetype": "text/x-python",
   "name": "python",
   "nbconvert_exporter": "python",
   "pygments_lexer": "ipython3",
   "version": "3.9.13"
  }
 },
 "nbformat": 4,
 "nbformat_minor": 5
}
