{
 "cells": [
  {
   "cell_type": "code",
   "execution_count": 1,
   "id": "71ced9f9",
   "metadata": {},
   "outputs": [
    {
     "name": "stdout",
     "output_type": "stream",
     "text": [
      "         Date Region    Product  Sales  Units Sold\n",
      "0  2024-01-01  North  Product A  500.0        25.0\n",
      "1  2024-01-01  North  Product B    NaN        15.0\n",
      "2  2024-01-01  South  Product A  700.0         NaN\n",
      "3  2024-01-02   East  Product C  400.0        20.0\n",
      "4  2024-01-02   West  Product D  350.0         NaN\n"
     ]
    }
   ],
   "source": [
    "import pandas as pd\n",
    "import numpy as np\n",
    "from sklearn.model_selection import train_test_split\n",
    "from sklearn.linear_model import LinearRegression\n",
    "from sklearn.metrics import mean_squared_error\n",
    "import matplotlib.pyplot as plt\n",
    "\n",
    "# Load the dataset\n",
    "df = pd.read_csv('Enhanced_Sales_Data.csv')\n",
    "\n",
    "# Preview the data\n",
    "print(df.head())\n"
   ]
  },
  {
   "cell_type": "code",
   "execution_count": 2,
   "id": "0171577e",
   "metadata": {},
   "outputs": [
    {
     "name": "stdout",
     "output_type": "stream",
     "text": [
      "         Date Region    Product  Sales  Units Sold\n",
      "0  2024-01-01  North  Product A  500.0        25.0\n",
      "1  2024-01-01  North  Product B    NaN        15.0\n",
      "2  2024-01-01  South  Product A  700.0         NaN\n",
      "3  2024-01-02   East  Product C  400.0        20.0\n",
      "4  2024-01-02   West  Product D  350.0         NaN\n"
     ]
    }
   ],
   "source": [
    "# Overview of the data\n",
    "print(df.head())  # Displays the  first 5 rows\n",
    "\n"
   ]
  },
  {
   "cell_type": "code",
   "execution_count": 3,
   "id": "c1501aae",
   "metadata": {},
   "outputs": [
    {
     "name": "stdout",
     "output_type": "stream",
     "text": [
      "<class 'pandas.core.frame.DataFrame'>\n",
      "RangeIndex: 9 entries, 0 to 8\n",
      "Data columns (total 5 columns):\n",
      " #   Column      Non-Null Count  Dtype  \n",
      "---  ------      --------------  -----  \n",
      " 0   Date        9 non-null      object \n",
      " 1   Region      9 non-null      object \n",
      " 2   Product     9 non-null      object \n",
      " 3   Sales       7 non-null      float64\n",
      " 4   Units Sold  7 non-null      float64\n",
      "dtypes: float64(2), object(3)\n",
      "memory usage: 488.0+ bytes\n",
      "None\n"
     ]
    }
   ],
   "source": [
    "\n",
    "print(df.info())  # Info about columns, data types, and non-null values\n",
    "\n"
   ]
  },
  {
   "cell_type": "code",
   "execution_count": 4,
   "id": "fde4ab3e",
   "metadata": {},
   "outputs": [
    {
     "name": "stdout",
     "output_type": "stream",
     "text": [
      "            Sales  Units Sold\n",
      "count    7.000000    7.000000\n",
      "mean   500.000000   25.285714\n",
      "std    119.023807    7.994045\n",
      "min    350.000000   15.000000\n",
      "25%    425.000000   21.000000\n",
      "50%    500.000000   25.000000\n",
      "75%    550.000000   27.500000\n",
      "max    700.000000   40.000000\n"
     ]
    }
   ],
   "source": [
    "print(df.describe())  # Summary statistics for numerical columns"
   ]
  },
  {
   "cell_type": "markdown",
   "id": "ab5bc8e7",
   "metadata": {},
   "source": [
    "# Handling missing values"
   ]
  },
  {
   "cell_type": "code",
   "execution_count": 5,
   "id": "fce61bd5",
   "metadata": {},
   "outputs": [
    {
     "name": "stdout",
     "output_type": "stream",
     "text": [
      "Date          0\n",
      "Region        0\n",
      "Product       0\n",
      "Sales         0\n",
      "Units Sold    0\n",
      "dtype: int64\n"
     ]
    }
   ],
   "source": [
    "# Fill missing sales values with the mean of the column\n",
    "df['Sales'] = df['Sales'].fillna(df['Sales'].mean())\n",
    "\n",
    "# Fill missing units sold with the median of the column\n",
    "df['Units Sold'] = df['Units Sold'].fillna(df['Units Sold'].median())\n",
    "\n",
    "# Verify missing values\n",
    "print(df.isnull().sum())\n"
   ]
  },
  {
   "cell_type": "code",
   "execution_count": 6,
   "id": "b5deb2d1",
   "metadata": {},
   "outputs": [
    {
     "name": "stdout",
     "output_type": "stream",
     "text": [
      "         Date Region    Product  Sales  Units Sold\n",
      "0  2024-01-01  North  Product A  500.0        25.0\n",
      "1  2024-01-01  North  Product B  500.0        15.0\n",
      "2  2024-01-01  South  Product A  700.0        25.0\n",
      "3  2024-01-02   East  Product C  400.0        20.0\n",
      "4  2024-01-02   West  Product D  350.0        25.0\n",
      "5  2024-01-02  North  Product A  500.0        40.0\n",
      "6  2024-01-03  South  Product B  600.0        30.0\n",
      "7  2024-01-03   East  Product D  450.0        22.0\n",
      "8  2024-01-03   West  Product C  500.0        25.0\n"
     ]
    }
   ],
   "source": [
    "# Inspect specific rows that originally had missing values\n",
    "print(df)\n"
   ]
  },
  {
   "cell_type": "code",
   "execution_count": 7,
   "id": "740358ba",
   "metadata": {},
   "outputs": [
    {
     "name": "stdout",
     "output_type": "stream",
     "text": [
      "Mean Sales: 500.0\n",
      "Median Units Sold: 25.0\n"
     ]
    }
   ],
   "source": [
    "# Check what values were used to fill missing data\n",
    "print(\"Mean Sales:\", df['Sales'].mean())\n",
    "print(\"Median Units Sold:\", df['Units Sold'].median())\n"
   ]
  },
  {
   "cell_type": "code",
   "execution_count": 9,
   "id": "3594e47c",
   "metadata": {},
   "outputs": [
    {
     "data": {
      "image/png": "[encoded data removed]",
      "text/plain": [
       "<Figure size 640x480 with 1 Axes>"
      ]
     },
     "metadata": {},
     "output_type": "display_data"
    }
   ],
   "source": [
    "# Total sales by region\n",
    "region_sales = df.groupby('Region')['Sales'].sum()\n",
    "\n",
    "# Average units sold per product\n",
    "product_units = df.groupby('Product')['Units Sold'].mean()\n",
    "\n",
    "# Sales trends over time\n",
    "daily_sales = df.groupby('Date')['Sales'].sum()\n",
    "\n",
    "# Visualize sales trends\n",
    "daily_sales.plot(kind='bar', title='Daily Sales Trends')\n",
    "plt.show()\n",
    "\n"
   ]
  },
  {
   "cell_type": "code",
   "execution_count": 10,
   "id": "149e864e",
   "metadata": {},
   "outputs": [
    {
     "name": "stdout",
     "output_type": "stream",
     "text": [
      "RMSE: 10.911762998421139\n"
     ]
    }
   ],
   "source": [
    "# Prepare data for modeling\n",
    "df['Date'] = pd.to_datetime(df['Date'])\n",
    "df['Day'] = df['Date'].dt.day\n",
    "df['Month'] = df['Date'].dt.month\n",
    "df['Year'] = df['Date'].dt.year\n",
    "\n",
    "# Features and target\n",
    "X = df[['Day', 'Month', 'Year', 'Units Sold']]\n",
    "y = df['Sales']\n",
    "\n",
    "# Split data\n",
    "X_train, X_test, y_train, y_test = train_test_split(X, y, test_size=0.2, random_state=42)\n",
    "\n",
    "# Train model\n",
    "model = LinearRegression()\n",
    "model.fit(X_train, y_train)\n",
    "\n",
    "# Predict on test data\n",
    "y_pred = model.predict(X_test)\n",
    "\n",
    "# Evaluate model\n",
    "rmse = np.sqrt(mean_squared_error(y_test, y_pred))\n",
    "print(f'RMSE: {rmse}')\n"
   ]
  },
  {
   "cell_type": "code",
   "execution_count": 11,
   "id": "01c29b36",
   "metadata": {},
   "outputs": [],
   "source": [
    "# Predict future sales\n",
    "future_data = pd.DataFrame({\n",
    "    'Day': [1, 2, 3],\n",
    "    'Month': [2, 2, 2],\n",
    "    'Year': [2024, 2024, 2024],\n",
    "    'Units Sold': [30, 40, 50]\n",
    "})\n",
    "\n",
    "future_sales = model.predict(future_data)\n",
    "future_data['Predicted Sales'] = future_sales\n",
    "\n",
    "# Save processed data and predictions\n",
    "df.to_csv('Processed_Enhanced_Sales_Data.csv', index=False)\n",
    "future_data.to_csv('Future_Sales_Predictions.csv', index=False)\n"
   ]
  },
  {
   "cell_type": "code",
   "execution_count": null,
   "id": "9cd88262",
   "metadata": {},
   "outputs": [],
   "source": []
  }
 ],
 "metadata": {
  "kernelspec": {
   "display_name": "Python 3 (ipykernel)",
   "language": "python",
   "name": "python3"
  },
  "language_info": {
   "codemirror_mode": {
    "name": "ipython",
    "version": 3
   },
   "file_extension": ".py",
   "mimetype": "text/x-python",
   "name": "python",
   "nbconvert_exporter": "python",
   "pygments_lexer": "ipython3",
   "version": "3.9.13"
  }
 },
 "nbformat": 4,
 "nbformat_minor": 5
}
