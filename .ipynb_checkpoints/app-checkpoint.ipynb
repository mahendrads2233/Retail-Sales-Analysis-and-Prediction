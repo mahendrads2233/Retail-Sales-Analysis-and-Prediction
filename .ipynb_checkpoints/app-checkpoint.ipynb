{
 "cells": [
  {
   "cell_type": "code",
   "execution_count": 1,
   "id": "78630622",
   "metadata": {},
   "outputs": [],
   "source": [
    "from fastapi import FastAPI\n"
   ]
  },
  {
   "cell_type": "code",
   "execution_count": 2,
   "id": "8280eeac",
   "metadata": {},
   "outputs": [],
   "source": [
    "from fastapi import FastAPI\n",
    "\n",
    "app_fast = FastAPI()\n",
    "\n",
    "@app_fast.get(\"/home\")\n",
    "def home():\n",
    "    return {\"name\": \"Mahendra\", \"Age\": 77}\n",
    "\n",
    "@app_fast.get(\"/Items\")\n",
    "\n",
    "def items():\n",
    "    \n",
    "    return {'cars' : ['Nissan'],  'Engg' : 675}\n",
    "\n",
    "@app_fast.get(\"/Item(item_id):int\")\n",
    "\n",
    "def items(item_id):\n",
    "    return {\"id\":item_id , 'cars' : ['Nissan'],  'Engg' : 675}\n"
   ]
  },
  {
   "cell_type": "code",
   "execution_count": null,
   "id": "88eff5ab",
   "metadata": {},
   "outputs": [],
   "source": []
  },
  {
   "cell_type": "code",
   "execution_count": null,
   "id": "f143ddeb",
   "metadata": {},
   "outputs": [],
   "source": []
  }
 ],
 "metadata": {
  "kernelspec": {
   "display_name": "Python 3 (ipykernel)",
   "language": "python",
   "name": "python3"
  },
  "language_info": {
   "codemirror_mode": {
    "name": "ipython",
    "version": 3
   },
   "file_extension": ".py",
   "mimetype": "text/x-python",
   "name": "python",
   "nbconvert_exporter": "python",
   "pygments_lexer": "ipython3",
   "version": "3.9.13"
  }
 },
 "nbformat": 4,
 "nbformat_minor": 5
}
